{
 "cells": [
  {
   "cell_type": "markdown",
   "id": "44fac903",
   "metadata": {},
   "source": [
    "## Trabalhando com Tuplas\n",
    "\n",
    "- Estrutura simmilar ás listas, porém imutáveis (após criadas, não podem ser alteradas);\n",
    "- Utilizam parênteses como sintaxe ()"
   ]
  },
  {
   "cell_type": "code",
   "execution_count": 1,
   "id": "5630514c",
   "metadata": {},
   "outputs": [],
   "source": [
    "# criando uma tupla\n",
    "tupla1 = ()"
   ]
  },
  {
   "cell_type": "code",
   "execution_count": 2,
   "id": "7daf829a",
   "metadata": {},
   "outputs": [
    {
     "data": {
      "text/plain": [
       "()"
      ]
     },
     "execution_count": 2,
     "metadata": {},
     "output_type": "execute_result"
    }
   ],
   "source": [
    "tupla1"
   ]
  },
  {
   "cell_type": "code",
   "execution_count": 3,
   "id": "87c40ed7",
   "metadata": {},
   "outputs": [],
   "source": [
    "tupla1 = ('Ferrari','Onça',17.900,500000)"
   ]
  },
  {
   "cell_type": "code",
   "execution_count": 4,
   "id": "a2a3320d",
   "metadata": {},
   "outputs": [
    {
     "data": {
      "text/plain": [
       "('Ferrari', 'Onça', 17.9, 500000)"
      ]
     },
     "execution_count": 4,
     "metadata": {},
     "output_type": "execute_result"
    }
   ],
   "source": [
    "tupla1"
   ]
  },
  {
   "cell_type": "code",
   "execution_count": 19,
   "id": "8f5485b5",
   "metadata": {},
   "outputs": [
    {
     "data": {
      "text/plain": [
       "('Ferrari', 'Onça', 17.9)"
      ]
     },
     "execution_count": 19,
     "metadata": {},
     "output_type": "execute_result"
    }
   ],
   "source": [
    "# imprimindo elementos a partir de suas posições\n",
    "tupla1[0], tupla1[1], tupla1[2]"
   ]
  },
  {
   "cell_type": "code",
   "execution_count": 8,
   "id": "b2e800f6",
   "metadata": {},
   "outputs": [],
   "source": [
    "# criação de tuplas alinhadas\n",
    "tupla_alinhada = (1,2,3, (23,43,78))"
   ]
  },
  {
   "cell_type": "code",
   "execution_count": 9,
   "id": "b54f340b",
   "metadata": {},
   "outputs": [
    {
     "data": {
      "text/plain": [
       "(23, 43, 78)"
      ]
     },
     "execution_count": 9,
     "metadata": {},
     "output_type": "execute_result"
    }
   ],
   "source": [
    "tupla_alinhada[3]"
   ]
  },
  {
   "cell_type": "code",
   "execution_count": 10,
   "id": "fe3ee688",
   "metadata": {},
   "outputs": [],
   "source": [
    "# operação de repetição e criação de nova tupla\n",
    "tupla2 = tupla1 * 3"
   ]
  },
  {
   "cell_type": "code",
   "execution_count": 11,
   "id": "041bfd9d",
   "metadata": {},
   "outputs": [
    {
     "data": {
      "text/plain": [
       "('Ferrari',\n",
       " 'Onça',\n",
       " 17.9,\n",
       " 500000,\n",
       " 'Ferrari',\n",
       " 'Onça',\n",
       " 17.9,\n",
       " 500000,\n",
       " 'Ferrari',\n",
       " 'Onça',\n",
       " 17.9,\n",
       " 500000)"
      ]
     },
     "execution_count": 11,
     "metadata": {},
     "output_type": "execute_result"
    }
   ],
   "source": [
    "tupla2"
   ]
  },
  {
   "cell_type": "code",
   "execution_count": 13,
   "id": "0f1b020f",
   "metadata": {},
   "outputs": [
    {
     "data": {
      "text/plain": [
       "(1, 2, 3, 4, 5, 6)"
      ]
     },
     "execution_count": 13,
     "metadata": {},
     "output_type": "execute_result"
    }
   ],
   "source": [
    "# concatenação de tuplas\n",
    "(1, 2, 3) + (4 ,5, 6)"
   ]
  },
  {
   "cell_type": "code",
   "execution_count": 15,
   "id": "46889206",
   "metadata": {},
   "outputs": [
    {
     "data": {
      "text/plain": [
       "True"
      ]
     },
     "execution_count": 15,
     "metadata": {},
     "output_type": "execute_result"
    }
   ],
   "source": [
    "# checando se um elemento pertence a uma tupla\n",
    "'Ferrari' in tupla1"
   ]
  },
  {
   "cell_type": "code",
   "execution_count": 18,
   "id": "f821d77b",
   "metadata": {},
   "outputs": [
    {
     "data": {
      "text/plain": [
       "('Onça', 17.9, 500000)"
      ]
     },
     "execution_count": 18,
     "metadata": {},
     "output_type": "execute_result"
    }
   ],
   "source": [
    "# slicing em tupla\n",
    "tupla1[1:]"
   ]
  },
  {
   "cell_type": "code",
   "execution_count": 20,
   "id": "d3b5a1a3",
   "metadata": {},
   "outputs": [
    {
     "data": {
      "text/plain": [
       "('Ferrari', 'Onça')"
      ]
     },
     "execution_count": 20,
     "metadata": {},
     "output_type": "execute_result"
    }
   ],
   "source": [
    "# percorrendo uma tupla com slicing\n",
    "tupla1[0:2]"
   ]
  },
  {
   "cell_type": "markdown",
   "id": "440059bb",
   "metadata": {},
   "source": [
    "## Métodos disponíveis em Tuplas\n",
    "\n",
    "- count: conta o total de elementos existentes\n",
    "- index: mostra o índice de um determinado elemento existente\n",
    "- len: contagem de um mesmo elemento existente\n",
    "- min: retorna o valor mínimo existente\n",
    "- max: retorna o valor máximo existente\n"
   ]
  },
  {
   "cell_type": "code",
   "execution_count": 1,
   "id": "7a7979c6",
   "metadata": {},
   "outputs": [],
   "source": [
    "# criando uma lista\n",
    "listat = [1,3,4,3,89.9,765,'Python','EngDados']"
   ]
  },
  {
   "cell_type": "code",
   "execution_count": 2,
   "id": "9d836c2b",
   "metadata": {},
   "outputs": [],
   "source": [
    "# connvertendo lista em tupla\n",
    "tupla3 = tuple(listat)"
   ]
  },
  {
   "cell_type": "code",
   "execution_count": 3,
   "id": "5da78ded",
   "metadata": {},
   "outputs": [
    {
     "data": {
      "text/plain": [
       "(1, 3, 4, 3, 89.9, 765, 'Python', 'EngDados')"
      ]
     },
     "execution_count": 3,
     "metadata": {},
     "output_type": "execute_result"
    }
   ],
   "source": [
    "tupla3"
   ]
  },
  {
   "cell_type": "code",
   "execution_count": 4,
   "id": "ec2f0812",
   "metadata": {},
   "outputs": [
    {
     "data": {
      "text/plain": [
       "tuple"
      ]
     },
     "execution_count": 4,
     "metadata": {},
     "output_type": "execute_result"
    }
   ],
   "source": [
    "type(tupla3)"
   ]
  },
  {
   "cell_type": "markdown",
   "id": "30be4667",
   "metadata": {},
   "source": [
    "## Trabalhando com Dicionários\n",
    "\n",
    "- possui estrutura de chave e valor {:}\n",
    "- são mutáveis e aceitam todos os tipos de valores"
   ]
  },
  {
   "cell_type": "code",
   "execution_count": 5,
   "id": "cd0aa26e",
   "metadata": {},
   "outputs": [],
   "source": [
    "# criando um dicionario vazio\n",
    "tip = {}"
   ]
  },
  {
   "cell_type": "code",
   "execution_count": 6,
   "id": "121272b7",
   "metadata": {},
   "outputs": [
    {
     "data": {
      "text/plain": [
       "{}"
      ]
     },
     "execution_count": 6,
     "metadata": {},
     "output_type": "execute_result"
    }
   ],
   "source": [
    "tip"
   ]
  },
  {
   "cell_type": "code",
   "execution_count": 7,
   "id": "bab1b96e",
   "metadata": {},
   "outputs": [
    {
     "data": {
      "text/plain": [
       "{'Victor': 29, 'Tester': 35, 'pesos': 56.7, 'time': 'Santos FC'}"
      ]
     },
     "execution_count": 7,
     "metadata": {},
     "output_type": "execute_result"
    }
   ],
   "source": [
    "coisas = {'Victor':29, 'Tester':35, 'pesos':56.7, 'time':'Santos FC'}\n",
    "coisas"
   ]
  },
  {
   "cell_type": "code",
   "execution_count": 8,
   "id": "354c33b9",
   "metadata": {},
   "outputs": [
    {
     "data": {
      "text/plain": [
       "29"
      ]
     },
     "execution_count": 8,
     "metadata": {},
     "output_type": "execute_result"
    }
   ],
   "source": [
    "# acessando valores da chave\n",
    "coisas['Victor']"
   ]
  },
  {
   "cell_type": "code",
   "execution_count": 11,
   "id": "04adc2e1",
   "metadata": {},
   "outputs": [
    {
     "data": {
      "text/plain": [
       "dict_keys(['Victor', 'Tester', 'pesos', 'time'])"
      ]
     },
     "execution_count": 11,
     "metadata": {},
     "output_type": "execute_result"
    }
   ],
   "source": [
    "# verificando as chaves existentes\n",
    "coisas.keys()"
   ]
  },
  {
   "cell_type": "code",
   "execution_count": 12,
   "id": "f10ac9ba",
   "metadata": {},
   "outputs": [
    {
     "data": {
      "text/plain": [
       "dict_values([29, 35, 56.7, 'Santos FC'])"
      ]
     },
     "execution_count": 12,
     "metadata": {},
     "output_type": "execute_result"
    }
   ],
   "source": [
    "# verificando os valores existentes\n",
    "coisas.values()"
   ]
  },
  {
   "cell_type": "code",
   "execution_count": 13,
   "id": "3487e010",
   "metadata": {},
   "outputs": [],
   "source": [
    "# atualizando valor de uma chave\n",
    "coisas['Tester'] = 35"
   ]
  },
  {
   "cell_type": "code",
   "execution_count": 14,
   "id": "4b50277f",
   "metadata": {},
   "outputs": [
    {
     "data": {
      "text/plain": [
       "{'Victor': 29, 'Tester': 35, 'pesos': 56.7, 'time': 'Santos FC'}"
      ]
     },
     "execution_count": 14,
     "metadata": {},
     "output_type": "execute_result"
    }
   ],
   "source": [
    "coisas"
   ]
  },
  {
   "cell_type": "code",
   "execution_count": 15,
   "id": "f6f73384",
   "metadata": {},
   "outputs": [],
   "source": [
    "# adicionando novos valores\n",
    "coisas['Narciso'] = 23"
   ]
  },
  {
   "cell_type": "code",
   "execution_count": 16,
   "id": "41996b1c",
   "metadata": {},
   "outputs": [
    {
     "data": {
      "text/plain": [
       "{'Victor': 29, 'Tester': 35, 'pesos': 56.7, 'time': 'Santos FC', 'Narciso': 23}"
      ]
     },
     "execution_count": 16,
     "metadata": {},
     "output_type": "execute_result"
    }
   ],
   "source": [
    "coisas"
   ]
  },
  {
   "cell_type": "code",
   "execution_count": 17,
   "id": "3341ece1",
   "metadata": {},
   "outputs": [
    {
     "data": {
      "text/plain": [
       "{'Tester': 35, 'pesos': 56.7, 'time': 'Santos FC', 'Narciso': 23}"
      ]
     },
     "execution_count": 17,
     "metadata": {},
     "output_type": "execute_result"
    }
   ],
   "source": [
    "# deletando um valor existente\n",
    "del coisas['Victor']\n",
    "coisas"
   ]
  },
  {
   "cell_type": "markdown",
   "id": "52d24bf1",
   "metadata": {},
   "source": [
    "## Métodos em dicionarios\n",
    "\n",
    "- get: retorna o valor caso existe, senão retorna o parâmetro\n",
    "- keys: retorna as chaves existentes\n",
    "- pop: remove o valor da chave informada\n",
    "- setdefault: retorna o valor caso exista, senão faz a inserção dos mesmos\n",
    "- values: retorna os valores disponíveis"
   ]
  },
  {
   "cell_type": "code",
   "execution_count": null,
   "id": "f4d7cc68",
   "metadata": {},
   "outputs": [],
   "source": []
  }
 ],
 "metadata": {
  "kernelspec": {
   "display_name": "Python 3 (ipykernel)",
   "language": "python",
   "name": "python3"
  },
  "language_info": {
   "codemirror_mode": {
    "name": "ipython",
    "version": 3
   },
   "file_extension": ".py",
   "mimetype": "text/x-python",
   "name": "python",
   "nbconvert_exporter": "python",
   "pygments_lexer": "ipython3",
   "version": "3.9.12"
  }
 },
 "nbformat": 4,
 "nbformat_minor": 5
}

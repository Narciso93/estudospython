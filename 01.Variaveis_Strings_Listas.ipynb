{
 "cells": [
  {
   "cell_type": "code",
   "execution_count": 1,
   "id": "92634d39",
   "metadata": {},
   "outputs": [],
   "source": [
    "# Comentários em Python iniciam com o símbolo \"#\""
   ]
  },
  {
   "cell_type": "code",
   "execution_count": 2,
   "id": "d3830aa0",
   "metadata": {},
   "outputs": [
    {
     "name": "stdout",
     "output_type": "stream",
     "text": [
      "hello world\n"
     ]
    }
   ],
   "source": [
    "print('hello world')"
   ]
  },
  {
   "cell_type": "code",
   "execution_count": 3,
   "id": "f484fabd",
   "metadata": {},
   "outputs": [],
   "source": [
    "# Operações matemáticas abaixo:"
   ]
  },
  {
   "cell_type": "code",
   "execution_count": 4,
   "id": "a1cf2234",
   "metadata": {},
   "outputs": [
    {
     "data": {
      "text/plain": [
       "12"
      ]
     },
     "execution_count": 4,
     "metadata": {},
     "output_type": "execute_result"
    }
   ],
   "source": [
    "2 + 10"
   ]
  },
  {
   "cell_type": "code",
   "execution_count": 5,
   "id": "5bbad1e8",
   "metadata": {},
   "outputs": [
    {
     "data": {
      "text/plain": [
       "0"
      ]
     },
     "execution_count": 5,
     "metadata": {},
     "output_type": "execute_result"
    }
   ],
   "source": [
    "2 - 2"
   ]
  },
  {
   "cell_type": "code",
   "execution_count": 6,
   "id": "47c7aa26",
   "metadata": {},
   "outputs": [
    {
     "data": {
      "text/plain": [
       "4"
      ]
     },
     "execution_count": 6,
     "metadata": {},
     "output_type": "execute_result"
    }
   ],
   "source": [
    "2 * 2"
   ]
  },
  {
   "cell_type": "code",
   "execution_count": 7,
   "id": "a44ba633",
   "metadata": {},
   "outputs": [
    {
     "data": {
      "text/plain": [
       "1.0"
      ]
     },
     "execution_count": 7,
     "metadata": {},
     "output_type": "execute_result"
    }
   ],
   "source": [
    "2 / 2"
   ]
  },
  {
   "cell_type": "code",
   "execution_count": 8,
   "id": "74b924b4",
   "metadata": {},
   "outputs": [
    {
     "data": {
      "text/plain": [
       "9.8"
      ]
     },
     "execution_count": 8,
     "metadata": {},
     "output_type": "execute_result"
    }
   ],
   "source": [
    "3.2 + 6.6"
   ]
  },
  {
   "cell_type": "code",
   "execution_count": 9,
   "id": "9ec5b49b",
   "metadata": {},
   "outputs": [
    {
     "data": {
      "text/plain": [
       "4.4"
      ]
     },
     "execution_count": 9,
     "metadata": {},
     "output_type": "execute_result"
    }
   ],
   "source": [
    "8.8 / 2"
   ]
  },
  {
   "cell_type": "code",
   "execution_count": 10,
   "id": "44e39273",
   "metadata": {},
   "outputs": [
    {
     "data": {
      "text/plain": [
       "25.5"
      ]
     },
     "execution_count": 10,
     "metadata": {},
     "output_type": "execute_result"
    }
   ],
   "source": [
    "10.2 * 2.5"
   ]
  },
  {
   "cell_type": "markdown",
   "id": "f9b31f55",
   "metadata": {},
   "source": [
    "## Funções no Python"
   ]
  },
  {
   "cell_type": "code",
   "execution_count": 11,
   "id": "635c7abc",
   "metadata": {},
   "outputs": [
    {
     "data": {
      "text/plain": [
       "int"
      ]
     },
     "execution_count": 11,
     "metadata": {},
     "output_type": "execute_result"
    }
   ],
   "source": [
    "# Para saber o tipo do dado utilizamos o type\n",
    "type(5)"
   ]
  },
  {
   "cell_type": "code",
   "execution_count": 12,
   "id": "105dc24a",
   "metadata": {},
   "outputs": [
    {
     "data": {
      "text/plain": [
       "float"
      ]
     },
     "execution_count": 12,
     "metadata": {},
     "output_type": "execute_result"
    }
   ],
   "source": [
    "type(6.6)"
   ]
  },
  {
   "cell_type": "code",
   "execution_count": 13,
   "id": "4e400bcf",
   "metadata": {},
   "outputs": [
    {
     "data": {
      "text/plain": [
       "str"
      ]
     },
     "execution_count": 13,
     "metadata": {},
     "output_type": "execute_result"
    }
   ],
   "source": [
    "type('Narciso')"
   ]
  },
  {
   "cell_type": "markdown",
   "id": "5264ce38",
   "metadata": {},
   "source": [
    "## Funções de Conversão"
   ]
  },
  {
   "cell_type": "code",
   "execution_count": 14,
   "id": "c2b5db2c",
   "metadata": {},
   "outputs": [
    {
     "data": {
      "text/plain": [
       "6"
      ]
     },
     "execution_count": 14,
     "metadata": {},
     "output_type": "execute_result"
    }
   ],
   "source": [
    "int(6)"
   ]
  },
  {
   "cell_type": "code",
   "execution_count": 15,
   "id": "08a8ca1a",
   "metadata": {},
   "outputs": [
    {
     "data": {
      "text/plain": [
       "6"
      ]
     },
     "execution_count": 15,
     "metadata": {},
     "output_type": "execute_result"
    }
   ],
   "source": [
    "int(6.5)"
   ]
  },
  {
   "cell_type": "code",
   "execution_count": 16,
   "id": "62cdeaaf",
   "metadata": {},
   "outputs": [
    {
     "data": {
      "text/plain": [
       "6.5"
      ]
     },
     "execution_count": 16,
     "metadata": {},
     "output_type": "execute_result"
    }
   ],
   "source": [
    "float(6.5)"
   ]
  },
  {
   "cell_type": "code",
   "execution_count": 17,
   "id": "73f2dd9d",
   "metadata": {},
   "outputs": [
    {
     "data": {
      "text/plain": [
       "6.0"
      ]
     },
     "execution_count": 17,
     "metadata": {},
     "output_type": "execute_result"
    }
   ],
   "source": [
    "float(6)"
   ]
  },
  {
   "cell_type": "code",
   "execution_count": 18,
   "id": "bb9a11b5",
   "metadata": {},
   "outputs": [
    {
     "data": {
      "text/plain": [
       "'5'"
      ]
     },
     "execution_count": 18,
     "metadata": {},
     "output_type": "execute_result"
    }
   ],
   "source": [
    "str(5)"
   ]
  },
  {
   "cell_type": "markdown",
   "id": "c6cf29c5",
   "metadata": {},
   "source": [
    "## Arredondamento de Valores"
   ]
  },
  {
   "cell_type": "code",
   "execution_count": 19,
   "id": "78a3a879",
   "metadata": {},
   "outputs": [
    {
     "data": {
      "text/plain": [
       "3"
      ]
     },
     "execution_count": 19,
     "metadata": {},
     "output_type": "execute_result"
    }
   ],
   "source": [
    "round(2.89898989)"
   ]
  },
  {
   "cell_type": "code",
   "execution_count": 20,
   "id": "1077344d",
   "metadata": {},
   "outputs": [
    {
     "data": {
      "text/plain": [
       "2.455"
      ]
     },
     "execution_count": 20,
     "metadata": {},
     "output_type": "execute_result"
    }
   ],
   "source": [
    "round(2.4545455,3)"
   ]
  },
  {
   "cell_type": "markdown",
   "id": "65626ffe",
   "metadata": {},
   "source": [
    "## Trabalhando com Variáveis"
   ]
  },
  {
   "cell_type": "code",
   "execution_count": 21,
   "id": "6a4450a6",
   "metadata": {},
   "outputs": [],
   "source": [
    "var1 = 1\n",
    "var2 = 2\n",
    "var3 = 3"
   ]
  },
  {
   "cell_type": "code",
   "execution_count": 22,
   "id": "78c2356d",
   "metadata": {},
   "outputs": [
    {
     "data": {
      "text/plain": [
       "1"
      ]
     },
     "execution_count": 22,
     "metadata": {},
     "output_type": "execute_result"
    }
   ],
   "source": [
    "var1"
   ]
  },
  {
   "cell_type": "code",
   "execution_count": 23,
   "id": "9835ac27",
   "metadata": {},
   "outputs": [
    {
     "data": {
      "text/plain": [
       "int"
      ]
     },
     "execution_count": 23,
     "metadata": {},
     "output_type": "execute_result"
    }
   ],
   "source": [
    "type(var1)"
   ]
  },
  {
   "cell_type": "code",
   "execution_count": 24,
   "id": "a34906c8",
   "metadata": {},
   "outputs": [
    {
     "data": {
      "text/plain": [
       "3"
      ]
     },
     "execution_count": 24,
     "metadata": {},
     "output_type": "execute_result"
    }
   ],
   "source": [
    "var1 + var2"
   ]
  },
  {
   "cell_type": "code",
   "execution_count": 25,
   "id": "442aa4a7",
   "metadata": {},
   "outputs": [],
   "source": [
    "# Python contém tipagem dinâmica, ou seja podemos reatribuir o valor de uma variável definida anteriormente"
   ]
  },
  {
   "cell_type": "code",
   "execution_count": 26,
   "id": "be7ca9b1",
   "metadata": {},
   "outputs": [],
   "source": [
    "var1 = 'Aprendendo Python na Marra'"
   ]
  },
  {
   "cell_type": "code",
   "execution_count": 27,
   "id": "a89bdaf0",
   "metadata": {},
   "outputs": [
    {
     "data": {
      "text/plain": [
       "str"
      ]
     },
     "execution_count": 27,
     "metadata": {},
     "output_type": "execute_result"
    }
   ],
   "source": [
    "type(var1)"
   ]
  },
  {
   "cell_type": "code",
   "execution_count": 28,
   "id": "9f4485ac",
   "metadata": {},
   "outputs": [],
   "source": [
    "var2 = 6.78"
   ]
  },
  {
   "cell_type": "code",
   "execution_count": 29,
   "id": "522aa203",
   "metadata": {},
   "outputs": [
    {
     "data": {
      "text/plain": [
       "float"
      ]
     },
     "execution_count": 29,
     "metadata": {},
     "output_type": "execute_result"
    }
   ],
   "source": [
    "type(var2)"
   ]
  },
  {
   "cell_type": "markdown",
   "id": "3b9b7e06",
   "metadata": {},
   "source": [
    "## Operações Matemáticas e Variáveis"
   ]
  },
  {
   "cell_type": "code",
   "execution_count": 30,
   "id": "6b3a95a4",
   "metadata": {},
   "outputs": [],
   "source": [
    "resultado = var2 * 10"
   ]
  },
  {
   "cell_type": "code",
   "execution_count": 31,
   "id": "d83927b7",
   "metadata": {},
   "outputs": [
    {
     "data": {
      "text/plain": [
       "67.8"
      ]
     },
     "execution_count": 31,
     "metadata": {},
     "output_type": "execute_result"
    }
   ],
   "source": [
    "resultado"
   ]
  },
  {
   "cell_type": "code",
   "execution_count": 32,
   "id": "b601d813",
   "metadata": {},
   "outputs": [],
   "source": [
    "resultado = 200 / 3"
   ]
  },
  {
   "cell_type": "code",
   "execution_count": 33,
   "id": "ed56b199",
   "metadata": {},
   "outputs": [
    {
     "data": {
      "text/plain": [
       "66.66666666666667"
      ]
     },
     "execution_count": 33,
     "metadata": {},
     "output_type": "execute_result"
    }
   ],
   "source": [
    "resultado"
   ]
  },
  {
   "cell_type": "code",
   "execution_count": 34,
   "id": "f7bec06a",
   "metadata": {},
   "outputs": [],
   "source": [
    "## Declarando mais de uma variável simultaneâmente"
   ]
  },
  {
   "cell_type": "code",
   "execution_count": 35,
   "id": "fc162dc8",
   "metadata": {},
   "outputs": [],
   "source": [
    "variavel1, variavel2 = 1, 'Nok'"
   ]
  },
  {
   "cell_type": "code",
   "execution_count": 36,
   "id": "9b3c2e86",
   "metadata": {},
   "outputs": [
    {
     "data": {
      "text/plain": [
       "1"
      ]
     },
     "execution_count": 36,
     "metadata": {},
     "output_type": "execute_result"
    }
   ],
   "source": [
    "variavel1"
   ]
  },
  {
   "cell_type": "code",
   "execution_count": 37,
   "id": "512cd681",
   "metadata": {},
   "outputs": [
    {
     "data": {
      "text/plain": [
       "'Nok'"
      ]
     },
     "execution_count": 37,
     "metadata": {},
     "output_type": "execute_result"
    }
   ],
   "source": [
    "variavel2"
   ]
  },
  {
   "cell_type": "markdown",
   "id": "b95cb4c6",
   "metadata": {},
   "source": [
    "# Restrições para criação de variáveis\n",
    "\n",
    "- Podem ser utilizadas underlines;\n",
    "- Não são aceitas palavras reservadas, nem serem iniciadas com números;"
   ]
  },
  {
   "cell_type": "code",
   "execution_count": 39,
   "id": "541e90c9",
   "metadata": {},
   "outputs": [],
   "source": [
    "variavel_teste = 1"
   ]
  },
  {
   "cell_type": "code",
   "execution_count": 40,
   "id": "0f5df3b4",
   "metadata": {},
   "outputs": [
    {
     "data": {
      "text/plain": [
       "1"
      ]
     },
     "execution_count": 40,
     "metadata": {},
     "output_type": "execute_result"
    }
   ],
   "source": [
    "variavel_teste"
   ]
  },
  {
   "cell_type": "code",
   "execution_count": 41,
   "id": "01985393",
   "metadata": {},
   "outputs": [],
   "source": [
    "var2 = 10"
   ]
  },
  {
   "cell_type": "code",
   "execution_count": 42,
   "id": "94f376f8",
   "metadata": {},
   "outputs": [
    {
     "data": {
      "text/plain": [
       "10"
      ]
     },
     "execution_count": 42,
     "metadata": {},
     "output_type": "execute_result"
    }
   ],
   "source": [
    "var2"
   ]
  },
  {
   "cell_type": "markdown",
   "id": "8d02cd71",
   "metadata": {},
   "source": [
    "## Trabalhando com Strings"
   ]
  },
  {
   "cell_type": "code",
   "execution_count": 43,
   "id": "cae37d8b",
   "metadata": {},
   "outputs": [],
   "source": [
    "frase = 'Python é top, mas exige treino diário'"
   ]
  },
  {
   "cell_type": "code",
   "execution_count": 44,
   "id": "69630ed5",
   "metadata": {},
   "outputs": [
    {
     "data": {
      "text/plain": [
       "'Python é top, mas exige treino diário'"
      ]
     },
     "execution_count": 44,
     "metadata": {},
     "output_type": "execute_result"
    }
   ],
   "source": [
    "frase"
   ]
  },
  {
   "cell_type": "code",
   "execution_count": 45,
   "id": "97203d32",
   "metadata": {},
   "outputs": [],
   "source": [
    "## Indexando Strings"
   ]
  },
  {
   "cell_type": "code",
   "execution_count": 46,
   "id": "f9754310",
   "metadata": {},
   "outputs": [
    {
     "data": {
      "text/plain": [
       "'P'"
      ]
     },
     "execution_count": 46,
     "metadata": {},
     "output_type": "execute_result"
    }
   ],
   "source": [
    "frase[0]"
   ]
  },
  {
   "cell_type": "code",
   "execution_count": 47,
   "id": "ff9dd4f0",
   "metadata": {},
   "outputs": [
    {
     "data": {
      "text/plain": [
       "'y'"
      ]
     },
     "execution_count": 47,
     "metadata": {},
     "output_type": "execute_result"
    }
   ],
   "source": [
    "frase[1]"
   ]
  },
  {
   "cell_type": "code",
   "execution_count": 48,
   "id": "c09a0421",
   "metadata": {},
   "outputs": [],
   "source": [
    "## Slicing - percorrer na string"
   ]
  },
  {
   "cell_type": "code",
   "execution_count": 49,
   "id": "ce2395d2",
   "metadata": {},
   "outputs": [
    {
     "data": {
      "text/plain": [
       "'Python é t'"
      ]
     },
     "execution_count": 49,
     "metadata": {},
     "output_type": "execute_result"
    }
   ],
   "source": [
    "frase[0:10]"
   ]
  },
  {
   "cell_type": "code",
   "execution_count": 50,
   "id": "9d079b7a",
   "metadata": {},
   "outputs": [
    {
     "data": {
      "text/plain": [
       "' é top, mas exige treino diário'"
      ]
     },
     "execution_count": 50,
     "metadata": {},
     "output_type": "execute_result"
    }
   ],
   "source": [
    "frase[6:]"
   ]
  },
  {
   "cell_type": "code",
   "execution_count": 51,
   "id": "841b277a",
   "metadata": {},
   "outputs": [],
   "source": [
    "## Concatenção entre strings"
   ]
  },
  {
   "cell_type": "code",
   "execution_count": 52,
   "id": "316f3a70",
   "metadata": {},
   "outputs": [],
   "source": [
    "frase1 = \"Python é show\""
   ]
  },
  {
   "cell_type": "code",
   "execution_count": 55,
   "id": "7d48ca67",
   "metadata": {},
   "outputs": [],
   "source": [
    "frase2 = \" e qualquer um pode aprender\""
   ]
  },
  {
   "cell_type": "code",
   "execution_count": 56,
   "id": "2987668e",
   "metadata": {},
   "outputs": [
    {
     "data": {
      "text/plain": [
       "'Python é show e qualquer um pode aprender'"
      ]
     },
     "execution_count": 56,
     "metadata": {},
     "output_type": "execute_result"
    }
   ],
   "source": [
    "frase1 + frase2"
   ]
  },
  {
   "cell_type": "markdown",
   "id": "d9ec09cc",
   "metadata": {},
   "source": [
    "## Métodos em string\n",
    "\n",
    "- count: faz a contagem total do argumento desejado informado entre aspas;\n",
    "- lower: transforma todos os caracteres em minúsculos;\n",
    "- upper: transforma todos os caracteres em maiúsculos;\n",
    "- capitalize: transforma a primeira letra em maíuscula;\n",
    "- islower / isupper: funciona como um verificador booleano com o retorno sendo verdadeiro ou falso;\n",
    "- split: quebra o caracter em pedaços;"
   ]
  },
  {
   "cell_type": "code",
   "execution_count": 58,
   "id": "021c9629",
   "metadata": {},
   "outputs": [
    {
     "data": {
      "text/plain": [
       "2"
      ]
     },
     "execution_count": 58,
     "metadata": {},
     "output_type": "execute_result"
    }
   ],
   "source": [
    "frase1.count('o')"
   ]
  },
  {
   "cell_type": "code",
   "execution_count": 59,
   "id": "9f993c01",
   "metadata": {},
   "outputs": [
    {
     "data": {
      "text/plain": [
       "'python é show'"
      ]
     },
     "execution_count": 59,
     "metadata": {},
     "output_type": "execute_result"
    }
   ],
   "source": [
    "frase1.lower()"
   ]
  },
  {
   "cell_type": "code",
   "execution_count": 60,
   "id": "f7e6e158",
   "metadata": {},
   "outputs": [
    {
     "data": {
      "text/plain": [
       "'PYTHON É SHOW'"
      ]
     },
     "execution_count": 60,
     "metadata": {},
     "output_type": "execute_result"
    }
   ],
   "source": [
    "frase1.upper()"
   ]
  },
  {
   "cell_type": "code",
   "execution_count": 62,
   "id": "fd0b4a5b",
   "metadata": {},
   "outputs": [
    {
     "data": {
      "text/plain": [
       "'Python é show'"
      ]
     },
     "execution_count": 62,
     "metadata": {},
     "output_type": "execute_result"
    }
   ],
   "source": [
    "frase1.capitalize()"
   ]
  },
  {
   "cell_type": "code",
   "execution_count": 63,
   "id": "4fd204d5",
   "metadata": {},
   "outputs": [
    {
     "data": {
      "text/plain": [
       "False"
      ]
     },
     "execution_count": 63,
     "metadata": {},
     "output_type": "execute_result"
    }
   ],
   "source": [
    "frase1.islower()"
   ]
  },
  {
   "cell_type": "code",
   "execution_count": 64,
   "id": "aaa4ad65",
   "metadata": {},
   "outputs": [
    {
     "data": {
      "text/plain": [
       "['Python', 'é', 'show']"
      ]
     },
     "execution_count": 64,
     "metadata": {},
     "output_type": "execute_result"
    }
   ],
   "source": [
    "frase1.split()"
   ]
  },
  {
   "cell_type": "markdown",
   "id": "2906ceea",
   "metadata": {},
   "source": [
    "## Trabalhando com Listas"
   ]
  },
  {
   "cell_type": "code",
   "execution_count": 1,
   "id": "735d6d3f",
   "metadata": {},
   "outputs": [],
   "source": [
    "bixos = [1,2,3]"
   ]
  },
  {
   "cell_type": "code",
   "execution_count": 2,
   "id": "816cc9fb",
   "metadata": {},
   "outputs": [
    {
     "data": {
      "text/plain": [
       "[1, 2, 3]"
      ]
     },
     "execution_count": 2,
     "metadata": {},
     "output_type": "execute_result"
    }
   ],
   "source": [
    "bixos"
   ]
  },
  {
   "cell_type": "code",
   "execution_count": 4,
   "id": "a456937e",
   "metadata": {},
   "outputs": [],
   "source": [
    "bixos = ['dog','cat',12345,13.9,[0,1,2]]"
   ]
  },
  {
   "cell_type": "code",
   "execution_count": 5,
   "id": "38c628f9",
   "metadata": {},
   "outputs": [
    {
     "data": {
      "text/plain": [
       "['dog', 'cat', 12345, 13.9, [0, 1, 2]]"
      ]
     },
     "execution_count": 5,
     "metadata": {},
     "output_type": "execute_result"
    }
   ],
   "source": [
    "bixos"
   ]
  },
  {
   "cell_type": "code",
   "execution_count": 7,
   "id": "d89ae359",
   "metadata": {},
   "outputs": [
    {
     "data": {
      "text/plain": [
       "'dog'"
      ]
     },
     "execution_count": 7,
     "metadata": {},
     "output_type": "execute_result"
    }
   ],
   "source": [
    "# Puxando pelo índice, no Python inicia pelo 0\n",
    "bixos[0]"
   ]
  },
  {
   "cell_type": "code",
   "execution_count": 8,
   "id": "26fca6df",
   "metadata": {},
   "outputs": [],
   "source": [
    "# Podemos substituir o valor atribuído anteriormente de uma lista"
   ]
  },
  {
   "cell_type": "code",
   "execution_count": 9,
   "id": "7e926a5e",
   "metadata": {},
   "outputs": [],
   "source": [
    "bixos[2] = 'Nacvision'"
   ]
  },
  {
   "cell_type": "code",
   "execution_count": 10,
   "id": "7738eb48",
   "metadata": {},
   "outputs": [
    {
     "data": {
      "text/plain": [
       "['dog', 'cat', 'Nacvision', 13.9, [0, 1, 2]]"
      ]
     },
     "execution_count": 10,
     "metadata": {},
     "output_type": "execute_result"
    }
   ],
   "source": [
    "bixos"
   ]
  },
  {
   "cell_type": "code",
   "execution_count": 11,
   "id": "04b6c200",
   "metadata": {},
   "outputs": [
    {
     "data": {
      "text/plain": [
       "['cat', 'Nacvision', 13.9, [0, 1, 2]]"
      ]
     },
     "execution_count": 11,
     "metadata": {},
     "output_type": "execute_result"
    }
   ],
   "source": [
    "# Slicing em listas\n",
    "bixos[1:]"
   ]
  },
  {
   "cell_type": "code",
   "execution_count": 12,
   "id": "32e51f74",
   "metadata": {},
   "outputs": [],
   "source": [
    "# Para remover um atributo, utilizamos o método remove, colocando a variável entre aspas\n",
    "bixos.remove('dog')"
   ]
  },
  {
   "cell_type": "code",
   "execution_count": 13,
   "id": "80624d1b",
   "metadata": {},
   "outputs": [
    {
     "data": {
      "text/plain": [
       "['cat', 'Nacvision', 13.9, [0, 1, 2]]"
      ]
     },
     "execution_count": 13,
     "metadata": {},
     "output_type": "execute_result"
    }
   ],
   "source": [
    "bixos"
   ]
  },
  {
   "cell_type": "markdown",
   "id": "32c1c80f",
   "metadata": {},
   "source": [
    "## Operações em Listas"
   ]
  },
  {
   "cell_type": "code",
   "execution_count": 14,
   "id": "c1d668a7",
   "metadata": {},
   "outputs": [
    {
     "data": {
      "text/plain": [
       "4"
      ]
     },
     "execution_count": 14,
     "metadata": {},
     "output_type": "execute_result"
    }
   ],
   "source": [
    "# o método len faz a contagem total de elementos de uma variável\n",
    "len(bixos)"
   ]
  },
  {
   "cell_type": "code",
   "execution_count": 21,
   "id": "ea220d47",
   "metadata": {},
   "outputs": [
    {
     "data": {
      "text/plain": [
       "['cat', 'Nacvision', 13.9, [0, 1, 2], 200, 'Stack', 'Academy', 1, 25]"
      ]
     },
     "execution_count": 21,
     "metadata": {},
     "output_type": "execute_result"
    }
   ],
   "source": [
    "# concatenando listas\n",
    "bixos + [200, 'Stack','Academy', 1, 25]"
   ]
  },
  {
   "cell_type": "code",
   "execution_count": 22,
   "id": "d3cefc57",
   "metadata": {},
   "outputs": [
    {
     "data": {
      "text/plain": [
       "False"
      ]
     },
     "execution_count": 22,
     "metadata": {},
     "output_type": "execute_result"
    }
   ],
   "source": [
    "# podemos utilizar um check para saber se um elemento possui ou não na lista, o retorno será True ou False\n",
    "'dog' in bixos"
   ]
  },
  {
   "cell_type": "code",
   "execution_count": 25,
   "id": "772a3010",
   "metadata": {},
   "outputs": [
    {
     "data": {
      "text/plain": [
       "True"
      ]
     },
     "execution_count": 25,
     "metadata": {},
     "output_type": "execute_result"
    }
   ],
   "source": [
    "'cat' in bixos"
   ]
  },
  {
   "cell_type": "code",
   "execution_count": 1,
   "id": "7e6730b1",
   "metadata": {},
   "outputs": [],
   "source": [
    "lista1 = [23,1,500,56,999]"
   ]
  },
  {
   "cell_type": "code",
   "execution_count": 27,
   "id": "b8fc6326",
   "metadata": {},
   "outputs": [],
   "source": [
    "# para verificar um valor mínimo ou max utilizamos min e max conforme exemplos a seguir (quando contém apenas números)"
   ]
  },
  {
   "cell_type": "code",
   "execution_count": 2,
   "id": "a303828f",
   "metadata": {},
   "outputs": [
    {
     "data": {
      "text/plain": [
       "1"
      ]
     },
     "execution_count": 2,
     "metadata": {},
     "output_type": "execute_result"
    }
   ],
   "source": [
    "min(lista1)"
   ]
  },
  {
   "cell_type": "code",
   "execution_count": 3,
   "id": "01333065",
   "metadata": {},
   "outputs": [
    {
     "data": {
      "text/plain": [
       "999"
      ]
     },
     "execution_count": 3,
     "metadata": {},
     "output_type": "execute_result"
    }
   ],
   "source": [
    "max(lista1)"
   ]
  },
  {
   "cell_type": "markdown",
   "id": "c4817d12",
   "metadata": {},
   "source": [
    "# Métodos em Listas"
   ]
  },
  {
   "cell_type": "markdown",
   "id": "c237396a",
   "metadata": {},
   "source": [
    "## Para visualizar os métodos existentes utilize o nome da lista + .\n",
    "\n",
    "\n",
    "- append: adiciona um novo elemento\n",
    "- copy: faz cópia dos elementos existentes\n",
    "- count: conta o total de elementos existentes\n",
    "- clear: apaga os dados existentes\n",
    "- extend: extende a lista com os elementos desejados\n",
    "- index: mostra o índice de um determinado elemento existente\n",
    "- insert: insere um novo elemento de acordo com a posição desejada Ex: lista1.insert(5, 'vida')\n",
    "- pop: remove um elemento de acordo com a posição desejada Ex: lista1.pop(500)\n",
    "- remove: remove um elemento existente\n",
    "- reverse: ordena os elementos de forma descrescente\n",
    "- sort: ordena os elementos de forma crescente"
   ]
  },
  {
   "cell_type": "code",
   "execution_count": 4,
   "id": "ab4fea70",
   "metadata": {},
   "outputs": [],
   "source": [
    "lista1.sort()"
   ]
  },
  {
   "cell_type": "code",
   "execution_count": 5,
   "id": "5eca4fa5",
   "metadata": {},
   "outputs": [
    {
     "data": {
      "text/plain": [
       "[1, 23, 56, 500, 999]"
      ]
     },
     "execution_count": 5,
     "metadata": {},
     "output_type": "execute_result"
    }
   ],
   "source": [
    "lista1"
   ]
  },
  {
   "cell_type": "code",
   "execution_count": 6,
   "id": "c957d74a",
   "metadata": {},
   "outputs": [],
   "source": [
    "lista1.clear()"
   ]
  },
  {
   "cell_type": "code",
   "execution_count": 7,
   "id": "792857b7",
   "metadata": {},
   "outputs": [
    {
     "data": {
      "text/plain": [
       "[]"
      ]
     },
     "execution_count": 7,
     "metadata": {},
     "output_type": "execute_result"
    }
   ],
   "source": [
    "lista1"
   ]
  },
  {
   "cell_type": "markdown",
   "id": "347c2275",
   "metadata": {},
   "source": [
    "## Linhas Alinhadas"
   ]
  },
  {
   "cell_type": "code",
   "execution_count": 8,
   "id": "dc0eaf6b",
   "metadata": {},
   "outputs": [],
   "source": [
    "# lista que contém 3 listas\n",
    "listasal = [['cat','dog','snake'], ['corsa','honda','audi'], [10,100,1000]]"
   ]
  },
  {
   "cell_type": "code",
   "execution_count": 9,
   "id": "f6b2a760",
   "metadata": {},
   "outputs": [
    {
     "data": {
      "text/plain": [
       "[['cat', 'dog', 'snake'], ['corsa', 'honda', 'audi'], [10, 100, 1000]]"
      ]
     },
     "execution_count": 9,
     "metadata": {},
     "output_type": "execute_result"
    }
   ],
   "source": [
    "listasal"
   ]
  },
  {
   "cell_type": "code",
   "execution_count": 10,
   "id": "2a4bf424",
   "metadata": {},
   "outputs": [
    {
     "data": {
      "text/plain": [
       "['cat', 'dog', 'snake']"
      ]
     },
     "execution_count": 10,
     "metadata": {},
     "output_type": "execute_result"
    }
   ],
   "source": [
    "# imprimindo a primeira lista\n",
    "listasal[0]"
   ]
  },
  {
   "cell_type": "code",
   "execution_count": 11,
   "id": "bf222212",
   "metadata": {},
   "outputs": [
    {
     "data": {
      "text/plain": [
       "['corsa', 'honda', 'audi']"
      ]
     },
     "execution_count": 11,
     "metadata": {},
     "output_type": "execute_result"
    }
   ],
   "source": [
    "# imprimindo a segunda lista\n",
    "listasal[1]"
   ]
  },
  {
   "cell_type": "code",
   "execution_count": 12,
   "id": "7336543b",
   "metadata": {},
   "outputs": [
    {
     "data": {
      "text/plain": [
       "[10, 100, 1000]"
      ]
     },
     "execution_count": 12,
     "metadata": {},
     "output_type": "execute_result"
    }
   ],
   "source": [
    "# imprimindo a terceira lista\n",
    "listasal[2]"
   ]
  },
  {
   "cell_type": "markdown",
   "id": "579cfbbd",
   "metadata": {},
   "source": [
    "## Para imprimir os valores separados dentro de cada lista, segue exemplo abaixo:\n",
    "\n",
    "- listasal[0][0], [0][1], [0][2]\n",
    "- listasal[1][0], [1][1], [1][2]\n",
    "- listasal[2][0], [2][1], [2][2]"
   ]
  },
  {
   "cell_type": "code",
   "execution_count": null,
   "id": "842298a8",
   "metadata": {},
   "outputs": [],
   "source": []
  }
 ],
 "metadata": {
  "kernelspec": {
   "display_name": "Python 3 (ipykernel)",
   "language": "python",
   "name": "python3"
  },
  "language_info": {
   "codemirror_mode": {
    "name": "ipython",
    "version": 3
   },
   "file_extension": ".py",
   "mimetype": "text/x-python",
   "name": "python",
   "nbconvert_exporter": "python",
   "pygments_lexer": "ipython3",
   "version": "3.9.12"
  }
 },
 "nbformat": 4,
 "nbformat_minor": 5
}

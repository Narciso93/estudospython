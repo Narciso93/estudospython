{
 "cells": [
  {
   "cell_type": "markdown",
   "id": "59c6b6bb",
   "metadata": {},
   "source": [
    "## Trabalhando com Estruturas Condicionais"
   ]
  },
  {
   "cell_type": "code",
   "execution_count": 1,
   "id": "fdcfa43a",
   "metadata": {},
   "outputs": [
    {
     "data": {
      "text/plain": [
       "True"
      ]
     },
     "execution_count": 1,
     "metadata": {},
     "output_type": "execute_result"
    }
   ],
   "source": [
    "# retorno boleano\n",
    "10 > 1"
   ]
  },
  {
   "cell_type": "code",
   "execution_count": 2,
   "id": "d025f124",
   "metadata": {},
   "outputs": [
    {
     "data": {
      "text/plain": [
       "False"
      ]
     },
     "execution_count": 2,
     "metadata": {},
     "output_type": "execute_result"
    }
   ],
   "source": [
    "5 <= 4"
   ]
  },
  {
   "cell_type": "code",
   "execution_count": 5,
   "id": "a514a1e9",
   "metadata": {},
   "outputs": [
    {
     "name": "stdout",
     "output_type": "stream",
     "text": [
      "tudo falso\n"
     ]
    }
   ],
   "source": [
    "# se a instrução for verdadeira, executa as instruções seguintes\n",
    "if 10 < 1:\n",
    "    print('verdadeiro')\n",
    "    print(1 + 2)\n",
    "    print('ultimo comando')\n",
    "else:\n",
    "    print('tudo falso')"
   ]
  },
  {
   "cell_type": "code",
   "execution_count": 4,
   "id": "4d96baf0",
   "metadata": {},
   "outputs": [
    {
     "name": "stdout",
     "output_type": "stream",
     "text": [
      "verdadeiro\n"
     ]
    }
   ],
   "source": [
    "if 10 > 1:\n",
    "    print('verdadeiro')"
   ]
  },
  {
   "cell_type": "code",
   "execution_count": 6,
   "id": "f780dfa8",
   "metadata": {},
   "outputs": [
    {
     "name": "stdout",
     "output_type": "stream",
     "text": [
      "Olá Silva, seja bem vindo!!\n"
     ]
    }
   ],
   "source": [
    "# operador lógico OR\n",
    "nome = 'Silva Neves'\n",
    "if 10 > 100 or nome == 'Silva Neves':\n",
    "    print(\"Olá Silva, seja bem vindo!!\")\n",
    "else:\n",
    "    print(\"Você não é Silva, portanto não está autorizado\")"
   ]
  },
  {
   "cell_type": "code",
   "execution_count": 7,
   "id": "def50eb4",
   "metadata": {},
   "outputs": [
    {
     "name": "stdout",
     "output_type": "stream",
     "text": [
      "Você não é Silva, portanto não está autorizado\n"
     ]
    }
   ],
   "source": [
    "# operador lógico AND\n",
    "nome = 'Silva'\n",
    "if 10 > 100 and nome == 'Silva Neves':\n",
    "    print(\"Olá Silva, seja bem vindo!!\")\n",
    "else:\n",
    "    print(\"Você não é Silva, portanto não está autorizado\")"
   ]
  },
  {
   "cell_type": "code",
   "execution_count": 13,
   "id": "5ba26033",
   "metadata": {},
   "outputs": [],
   "source": [
    "valor = 49"
   ]
  },
  {
   "cell_type": "code",
   "execution_count": 14,
   "id": "66719e17",
   "metadata": {},
   "outputs": [
    {
     "name": "stdout",
     "output_type": "stream",
     "text": [
      "Operação inválida, valores devem ser maiores que 50! \n"
     ]
    }
   ],
   "source": [
    "# operador ELIF - atua quando o IF é falso, sendo uma instrução se-então\n",
    "if valor > 100:\n",
    "    print('Ok, valor maior que 100! ')\n",
    "elif valor > 50:\n",
    "    print('Ok, valor maior que 50! ')\n",
    "else:\n",
    "    print('Operação inválida, valores devem ser maiores que 50! ')"
   ]
  },
  {
   "cell_type": "code",
   "execution_count": 19,
   "id": "0cbce12e",
   "metadata": {},
   "outputs": [],
   "source": [
    "# instruções IF alinhadas\n",
    "usuario = 'Narciso'\n",
    "senha = 'Megsp'"
   ]
  },
  {
   "cell_type": "code",
   "execution_count": 20,
   "id": "76b4e490",
   "metadata": {},
   "outputs": [
    {
     "name": "stdout",
     "output_type": "stream",
     "text": [
      "Nome de usuário correto, você esqueceu a senha?\n"
     ]
    }
   ],
   "source": [
    "if usuario == 'Narciso':\n",
    "    if senha == 'Megspo':\n",
    "        print(\"Ok, tudo certo\")\n",
    "    else:\n",
    "        print(\"Nome de usuário correto, você esqueceu a senha?\")\n",
    "else:\n",
    "    print(\"Nome de usuário inválido\")"
   ]
  },
  {
   "cell_type": "markdown",
   "id": "4de33fe9",
   "metadata": {},
   "source": [
    "## Trabalhando com Loop \"for\""
   ]
  },
  {
   "cell_type": "code",
   "execution_count": 9,
   "id": "d47a71e9",
   "metadata": {},
   "outputs": [
    {
     "name": "stdout",
     "output_type": "stream",
     "text": [
      "Valor: 1\n",
      "3\n",
      "Valor: 2\n",
      "4\n",
      "Valor: 3\n",
      "5\n",
      "Valor: 4\n",
      "6\n",
      "Valor: 5\n",
      "7\n"
     ]
    }
   ],
   "source": [
    "# instrução utilizando uma lista\n",
    "for i in [1,2,3,4,5]:\n",
    "    print(\"Valor: %s\" %i)\n",
    "    print(i + 2)"
   ]
  },
  {
   "cell_type": "code",
   "execution_count": 3,
   "id": "8e23e7dd",
   "metadata": {},
   "outputs": [
    {
     "name": "stdout",
     "output_type": "stream",
     "text": [
      "T\n",
      "e\n",
      "s\n",
      "t\n",
      "e\n",
      " \n",
      "p\n",
      "a\n",
      "r\n",
      "a\n",
      " \n",
      "P\n",
      "y\n",
      "t\n",
      "h\n",
      "o\n",
      "n\n"
     ]
    }
   ],
   "source": [
    "# instrução utilizando string\n",
    "for frase in 'Teste para Python':\n",
    "    print(frase)"
   ]
  },
  {
   "cell_type": "code",
   "execution_count": 4,
   "id": "bbd98cec",
   "metadata": {},
   "outputs": [
    {
     "name": "stdout",
     "output_type": "stream",
     "text": [
      "Ferrari\n",
      "Porshe\n",
      "Camaro\n"
     ]
    }
   ],
   "source": [
    "# instrução utilizando lista de strings\n",
    "automoveis = ['Ferrari','Porshe','Camaro']\n",
    "for cars in automoveis:\n",
    "    print(cars)"
   ]
  },
  {
   "cell_type": "code",
   "execution_count": 5,
   "id": "7007df63",
   "metadata": {},
   "outputs": [
    {
     "name": "stdout",
     "output_type": "stream",
     "text": [
      "Paula\n",
      "Fagvio\n",
      "Livia\n",
      "Tassio\n"
     ]
    }
   ],
   "source": [
    "# instrução utilizando dicionários\n",
    "pessoas_idade = {'Paula':35, 'Fagvio':25, 'Livia':19, 'Tassio':27}\n",
    "for p in pessoas_idade:\n",
    "    print(p)"
   ]
  },
  {
   "cell_type": "code",
   "execution_count": 16,
   "id": "ed428e10",
   "metadata": {},
   "outputs": [
    {
     "name": "stdout",
     "output_type": "stream",
     "text": [
      "1\n",
      "3\n",
      "5\n",
      "7\n",
      "9\n"
     ]
    }
   ],
   "source": [
    "# instrução utilizando condicionais (imprimento somente números ímpares)\n",
    "for prs in [1,2,3,4,5,6,7,8,9,10]:\n",
    "    if prs % 2 > 0:\n",
    "        print(prs)"
   ]
  },
  {
   "cell_type": "code",
   "execution_count": 19,
   "id": "19ed8d77",
   "metadata": {},
   "outputs": [
    {
     "name": "stdout",
     "output_type": "stream",
     "text": [
      "2\n",
      "4\n",
      "6\n",
      "8\n",
      "10\n"
     ]
    }
   ],
   "source": [
    "# instrução utilizando condicionais (imprimento somente números pares)\n",
    "for prs in [1,2,3,4,5,6,7,8,9,10]:\n",
    "    if prs % 2 < 1:\n",
    "        print(prs)"
   ]
  },
  {
   "cell_type": "code",
   "execution_count": 21,
   "id": "106fd185",
   "metadata": {},
   "outputs": [
    {
     "name": "stdout",
     "output_type": "stream",
     "text": [
      "10 Python é top\n",
      "15 Engenharia de Dados na veia\n",
      "20 Estudos na força do Ódio\n"
     ]
    }
   ],
   "source": [
    "# instrução zip para concatenar listas\n",
    "indice = [10,15,20]\n",
    "linhas = ['Python é top','Engenharia de Dados na veia','Estudos na força do Ódio']\n",
    "for i,l in zip(indice,linhas):\n",
    "    print(i,l)"
   ]
  },
  {
   "cell_type": "markdown",
   "id": "2e51f3a2",
   "metadata": {},
   "source": [
    "## Loops Alinhados"
   ]
  },
  {
   "cell_type": "code",
   "execution_count": 22,
   "id": "11dc3326",
   "metadata": {},
   "outputs": [
    {
     "name": "stdout",
     "output_type": "stream",
     "text": [
      "1a Fase\n",
      "Maça\n",
      "Bananas\n",
      "Uvas\n",
      "2a Fase\n",
      "Maça\n",
      "Bananas\n",
      "Uvas\n",
      "3a Fase\n",
      "Maça\n",
      "Bananas\n",
      "Uvas\n"
     ]
    }
   ],
   "source": [
    "# A cada execução do primeiro loop, todo o segundo loop será executado\n",
    "for i in ['1a Fase','2a Fase','3a Fase']:\n",
    "    print(i)\n",
    "    for y in ['Maça','Bananas','Uvas']:\n",
    "        print(y)"
   ]
  },
  {
   "cell_type": "markdown",
   "id": "3be36b9b",
   "metadata": {},
   "source": [
    "## Instrução Break\n",
    "- utilizada para encerrar o loop quando ele encontrar o elemento desejado na variável"
   ]
  },
  {
   "cell_type": "code",
   "execution_count": 23,
   "id": "dedcdffc",
   "metadata": {},
   "outputs": [
    {
     "name": "stdout",
     "output_type": "stream",
     "text": [
      "Letra : P\n",
      "Letra : y\n",
      "Letra : t\n",
      "Letra : h\n",
      "Letra : o\n",
      "Letra : n\n"
     ]
    }
   ],
   "source": [
    "for palavra in 'Pythonzera':\n",
    "    if palavra == 'z':\n",
    "        break\n",
    "    print('Letra :', palavra)"
   ]
  },
  {
   "cell_type": "markdown",
   "id": "1b33de86",
   "metadata": {},
   "source": [
    "## Instrução Continue\n",
    "- utilizada para continuar o loop mesmo quando ele achar a variável declarada no código"
   ]
  },
  {
   "cell_type": "code",
   "execution_count": 1,
   "id": "8e3aa3d4",
   "metadata": {},
   "outputs": [
    {
     "name": "stdout",
     "output_type": "stream",
     "text": [
      "Letra : P\n",
      "Letra : y\n",
      "Letra : t\n",
      "Letra : h\n",
      "Letra : o\n",
      "Letra : n\n",
      "Letra : e\n",
      "Letra : r\n",
      "Letra : a\n"
     ]
    }
   ],
   "source": [
    "for palavra in 'Pythonzera':\n",
    "    if palavra == 'z':\n",
    "        continue\n",
    "    print('Letra :', palavra)"
   ]
  },
  {
   "cell_type": "markdown",
   "id": "c04621d8",
   "metadata": {},
   "source": [
    "## Trabalhando com Loop \"While\"\n",
    "\n",
    "- utilizamos para executar uma condição até que a mesma seja falsa"
   ]
  },
  {
   "cell_type": "code",
   "execution_count": 2,
   "id": "39f33466",
   "metadata": {},
   "outputs": [
    {
     "name": "stdout",
     "output_type": "stream",
     "text": [
      "0\n",
      "1\n",
      "2\n",
      "3\n",
      "4\n",
      "5\n",
      "6\n",
      "7\n",
      "8\n",
      "9\n"
     ]
    }
   ],
   "source": [
    "i = 0\n",
    "while i < 10:\n",
    "    print(i)\n",
    "    i = i + 1"
   ]
  },
  {
   "cell_type": "code",
   "execution_count": 3,
   "id": "2bebce1e",
   "metadata": {},
   "outputs": [
    {
     "name": "stdout",
     "output_type": "stream",
     "text": [
      "\n",
      "\n",
      " Continuando o programa...\n"
     ]
    }
   ],
   "source": [
    "# quando a condição é falsa...\n",
    "i = 11\n",
    "while i < 10:\n",
    "    print(i)\n",
    "    i = i + 1\n",
    "    \n",
    "print(\"\\n\\n Continuando o programa...\")"
   ]
  },
  {
   "cell_type": "code",
   "execution_count": 4,
   "id": "166683d7",
   "metadata": {},
   "outputs": [
    {
     "name": "stdout",
     "output_type": "stream",
     "text": [
      "0\n",
      "1\n",
      "2\n",
      "3\n",
      "4\n",
      "5\n",
      "6\n",
      "7\n",
      "8\n",
      "9\n",
      "Número é maior ou igual a 10\n"
     ]
    }
   ],
   "source": [
    "# while com else\n",
    "i = 0\n",
    "while i < 10:\n",
    "    print(i)\n",
    "    i = i + 1\n",
    "else:\n",
    "    print(\"Número é maior ou igual a 10\")"
   ]
  },
  {
   "cell_type": "code",
   "execution_count": 5,
   "id": "b02b90fb",
   "metadata": {},
   "outputs": [
    {
     "name": "stdout",
     "output_type": "stream",
     "text": [
      "0\n",
      "1\n",
      "2\n",
      "3\n",
      "4\n",
      "\n",
      "\n",
      " Continuando o programa...\n"
     ]
    }
   ],
   "source": [
    "# while com break\n",
    "i = 0\n",
    "while i < 10:\n",
    "    if i == 5:\n",
    "        break\n",
    "    print (i)\n",
    "    i = i + 1\n",
    "    \n",
    "print(\"\\n\\n Continuando o programa...\")"
   ]
  },
  {
   "cell_type": "code",
   "execution_count": null,
   "id": "692c4ce6",
   "metadata": {},
   "outputs": [],
   "source": []
  }
 ],
 "metadata": {
  "kernelspec": {
   "display_name": "Python 3 (ipykernel)",
   "language": "python",
   "name": "python3"
  },
  "language_info": {
   "codemirror_mode": {
    "name": "ipython",
    "version": 3
   },
   "file_extension": ".py",
   "mimetype": "text/x-python",
   "name": "python",
   "nbconvert_exporter": "python",
   "pygments_lexer": "ipython3",
   "version": "3.9.12"
  }
 },
 "nbformat": 4,
 "nbformat_minor": 5
}
